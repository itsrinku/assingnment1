{
 "cells": [
  {
   "cell_type": "code",
   "execution_count": 39,
   "id": "7fb3cde0-cac4-4b87-b5a2-8c25e0897cd7",
   "metadata": {},
   "outputs": [
    {
     "name": "stdin",
     "output_type": "stream",
     "text": [
      "enter the marks 46\n"
     ]
    },
    {
     "name": "stdout",
     "output_type": "stream",
     "text": [
      "you will be part of c batch\n"
     ]
    }
   ],
   "source": [
    "#control flow statements\n",
    "marks=int(input(\"enter the marks\"))\n",
    "\n",
    "if marks >= 80:\n",
    "    print(\"you will be part of A0 batch\")\n",
    "elif marks >= 60 and marks <80:\n",
    "         print(\"you will be part of b batch\")\n",
    "else:\n",
    "        print(\"you will be part of c batch\")\n",
    "        \n",
    "    "
   ]
  },
  {
   "cell_type": "code",
   "execution_count": 30,
   "id": "9bba88a7-92dd-45cf-8bff-b88cf878c053",
   "metadata": {},
   "outputs": [
    {
     "data": {
      "text/plain": [
       "str"
      ]
     },
     "execution_count": 30,
     "metadata": {},
     "output_type": "execute_result"
    }
   ],
   "source": [
    "type(marks)\n",
    "    "
   ]
  },
  {
   "cell_type": "code",
   "execution_count": 31,
   "id": "066ebacd-4ac7-442c-aff1-e7b81526165a",
   "metadata": {},
   "outputs": [],
   "source": [
    "marks=int(marks)"
   ]
  },
  {
   "cell_type": "code",
   "execution_count": 33,
   "id": "013219cd-610b-4bcc-b093-e4300e068c27",
   "metadata": {},
   "outputs": [
    {
     "data": {
      "text/plain": [
       "60"
      ]
     },
     "execution_count": 33,
     "metadata": {},
     "output_type": "execute_result"
    }
   ],
   "source": [
    "marks"
   ]
  },
  {
   "cell_type": "code",
   "execution_count": 6,
   "id": "42541d04-cd6f-467a-bd00-e54948058cce",
   "metadata": {},
   "outputs": [
    {
     "name": "stdin",
     "output_type": "stream",
     "text": [
      "enter the price 400\n"
     ]
    },
    {
     "name": "stdout",
     "output_type": "stream",
     "text": [
      "i will purchase\n"
     ]
    }
   ],
   "source": [
    "price=int(input(\"enter the price\"))\n",
    "if price > 1000 :\n",
    "     print(\"i will not purchase\")\n",
    "else :\n",
    "     print(\"i will purchase\")"
   ]
  },
  {
   "cell_type": "code",
   "execution_count": 7,
   "id": "a18c7310-a412-4de4-9503-211e8ca022d8",
   "metadata": {},
   "outputs": [],
   "source": [
    "# for loop\n",
    "\n"
   ]
  },
  {
   "cell_type": "code",
   "execution_count": 8,
   "id": "5cc81ab7-31fe-433b-938a-404e2285f74e",
   "metadata": {},
   "outputs": [],
   "source": [
    "l=[1,2,3,4,5,6,7,53,3]"
   ]
  },
  {
   "cell_type": "code",
   "execution_count": 12,
   "id": "a06cb9f9-aeb8-422b-a3b1-4898c3e2862e",
   "metadata": {},
   "outputs": [
    {
     "name": "stdout",
     "output_type": "stream",
     "text": [
      "[1, 2, 3, 4, 5, 6, 7, 53, 3]\n",
      "[1, 2, 3, 4, 5, 6, 7, 53, 3]\n",
      "[1, 2, 3, 4, 5, 6, 7, 53, 3]\n",
      "[1, 2, 3, 4, 5, 6, 7, 53, 3]\n",
      "[1, 2, 3, 4, 5, 6, 7, 53, 3]\n",
      "[1, 2, 3, 4, 5, 6, 7, 53, 3]\n",
      "[1, 2, 3, 4, 5, 6, 7, 53, 3]\n",
      "[1, 2, 3, 4, 5, 6, 7, 53, 3]\n",
      "[1, 2, 3, 4, 5, 6, 7, 53, 3]\n"
     ]
    }
   ],
   "source": [
    "for k in l :\n",
    "    print(l)\n",
    "    \n"
   ]
  },
  {
   "cell_type": "code",
   "execution_count": 14,
   "id": "57ea2735-2511-404b-8656-fd935488e2b4",
   "metadata": {},
   "outputs": [
    {
     "name": "stdout",
     "output_type": "stream",
     "text": [
      "god is great\n",
      "god is great\n",
      "god is great\n",
      "god is great\n",
      "god is great\n",
      "god is great\n",
      "god is great\n",
      "god is great\n",
      "god is great\n"
     ]
    }
   ],
   "source": [
    "for i in l:\n",
    "    print(\"god is great\")"
   ]
  },
  {
   "cell_type": "code",
   "execution_count": 15,
   "id": "1d08701c-e626-4458-b8cb-d70e46717da4",
   "metadata": {},
   "outputs": [
    {
     "name": "stdout",
     "output_type": "stream",
     "text": [
      "1\n",
      "2\n",
      "3\n",
      "4\n",
      "5\n",
      "6\n",
      "7\n",
      "53\n",
      "3\n"
     ]
    }
   ],
   "source": [
    "for i in l:\n",
    "    print(i)"
   ]
  },
  {
   "cell_type": "code",
   "execution_count": 16,
   "id": "b7aaeaf0-2049-4e75-a05b-961954a44e97",
   "metadata": {},
   "outputs": [
    {
     "name": "stdout",
     "output_type": "stream",
     "text": [
      "2\n",
      "3\n",
      "4\n",
      "5\n",
      "6\n",
      "7\n",
      "8\n",
      "54\n",
      "4\n"
     ]
    }
   ],
   "source": [
    "for i in l:\n",
    "    print(i+1)"
   ]
  },
  {
   "cell_type": "code",
   "execution_count": 21,
   "id": "28696bda-57e7-4cc7-8b15-1dfb97e86424",
   "metadata": {},
   "outputs": [
    {
     "name": "stdout",
     "output_type": "stream",
     "text": [
      "['i', '+', '1']\n",
      "['i', '+', '1']\n",
      "['i', '+', '1']\n",
      "['i', '+', '1']\n",
      "['i', '+', '1']\n",
      "['i', '+', '1']\n",
      "['i', '+', '1']\n",
      "['i', '+', '1']\n",
      "['i', '+', '1']\n"
     ]
    }
   ],
   "source": [
    "for i in l:\n",
    "      print(list(\"i+1\"))"
   ]
  },
  {
   "cell_type": "code",
   "execution_count": 32,
   "id": "948e291c-b36d-486e-bd64-89e5548f8db8",
   "metadata": {},
   "outputs": [],
   "source": [
    "l1=[]\n",
    "for i in l:\n",
    "    \n",
    "    l1.append(i+1)\n",
    "    "
   ]
  },
  {
   "cell_type": "code",
   "execution_count": 31,
   "id": "0e013e03-7724-4a08-92c5-7646619f8615",
   "metadata": {},
   "outputs": [
    {
     "data": {
      "text/plain": [
       "[2, 3, 4, 5, 6, 7, 8, 54, 4]"
      ]
     },
     "execution_count": 31,
     "metadata": {},
     "output_type": "execute_result"
    }
   ],
   "source": [
    "\n",
    "l1"
   ]
  },
  {
   "cell_type": "code",
   "execution_count": null,
   "id": "6c4093d5-05d0-4318-b29e-b1d3fe159cb9",
   "metadata": {},
   "outputs": [],
   "source": [
    "for i in l:\n",
    "    l.append(i+1)"
   ]
  },
  {
   "cell_type": "code",
   "execution_count": 2,
   "id": "28867f07-4b55-4d8b-9980-be56197a2f93",
   "metadata": {},
   "outputs": [
    {
     "ename": "NameError",
     "evalue": "name 'l' is not defined",
     "output_type": "error",
     "traceback": [
      "\u001b[0;31m---------------------------------------------------------------------------\u001b[0m",
      "\u001b[0;31mNameError\u001b[0m                                 Traceback (most recent call last)",
      "Cell \u001b[0;32mIn [2], line 1\u001b[0m\n\u001b[0;32m----> 1\u001b[0m \u001b[43ml\u001b[49m\n",
      "\u001b[0;31mNameError\u001b[0m: name 'l' is not defined"
     ]
    }
   ],
   "source": [
    "l"
   ]
  },
  {
   "cell_type": "code",
   "execution_count": 1,
   "id": "385a98d7-adfe-4690-bd0e-d13649162493",
   "metadata": {},
   "outputs": [
    {
     "ename": "NameError",
     "evalue": "name 'l' is not defined",
     "output_type": "error",
     "traceback": [
      "\u001b[0;31m---------------------------------------------------------------------------\u001b[0m",
      "\u001b[0;31mNameError\u001b[0m                                 Traceback (most recent call last)",
      "Cell \u001b[0;32mIn [1], line 1\u001b[0m\n\u001b[0;32m----> 1\u001b[0m \u001b[38;5;28;01mfor\u001b[39;00m i \u001b[38;5;129;01min\u001b[39;00m \u001b[43ml\u001b[49m:\n\u001b[1;32m      2\u001b[0m     l\u001b[38;5;241m.\u001b[39mappend(\u001b[38;5;241m1\u001b[39m\u001b[38;5;241m+\u001b[39mi)\n",
      "\u001b[0;31mNameError\u001b[0m: name 'l' is not defined"
     ]
    }
   ],
   "source": []
  },
  {
   "cell_type": "code",
   "execution_count": 3,
   "id": "c7c8ad3d-1eb0-4c79-9496-08de82d97c12",
   "metadata": {},
   "outputs": [],
   "source": [
    "l2=[\"rinku\",\"rahul\",\"yuvraj\",\"dushayant\"]"
   ]
  },
  {
   "cell_type": "code",
   "execution_count": null,
   "id": "38955798-8f7c-41ce-a871-f8fc5c8be171",
   "metadata": {},
   "outputs": [],
   "source": []
  },
  {
   "cell_type": "code",
   "execution_count": 13,
   "id": "c5ae3b33-2932-4eb0-a526-1a7c90d1e11a",
   "metadata": {},
   "outputs": [],
   "source": [
    "l2\n",
    "l1=[]"
   ]
  },
  {
   "cell_type": "code",
   "execution_count": 16,
   "id": "f62cff18-083f-4170-901e-1bacd6c89f1a",
   "metadata": {},
   "outputs": [
    {
     "name": "stdout",
     "output_type": "stream",
     "text": [
      "RINKU\n",
      "RAHUL\n",
      "YUVRAJ\n",
      "DUSHAYANT\n"
     ]
    }
   ],
   "source": [
    "for i in l2:\n",
    "     print(i.upper())"
   ]
  },
  {
   "cell_type": "code",
   "execution_count": 20,
   "id": "1fb7c2b6-b236-4a93-b8bf-268b4b857ac7",
   "metadata": {},
   "outputs": [
    {
     "name": "stdout",
     "output_type": "stream",
     "text": [
      "['R', 'I', 'N', 'K', 'U']\n",
      "['R', 'A', 'H', 'U', 'L']\n",
      "['Y', 'U', 'V', 'R', 'A', 'J']\n",
      "['D', 'U', 'S', 'H', 'A', 'Y', 'A', 'N', 'T']\n"
     ]
    }
   ],
   "source": [
    "for i in l2:\n",
    "    print(list(i.upper()))"
   ]
  },
  {
   "cell_type": "code",
   "execution_count": 24,
   "id": "ebe33334-914a-41bb-a9ab-0a99e12a4a5e",
   "metadata": {},
   "outputs": [],
   "source": [
    "for i in l2:\n",
    "    l1.append(i.upper())"
   ]
  },
  {
   "cell_type": "code",
   "execution_count": 26,
   "id": "f14bcb07-8d3c-40ac-9349-962104044ef6",
   "metadata": {},
   "outputs": [
    {
     "data": {
      "text/plain": [
       "[<function str.upper()>,\n",
       " <function str.upper()>,\n",
       " <function str.upper()>,\n",
       " <function str.upper()>,\n",
       " <function str.upper()>,\n",
       " <function str.upper()>,\n",
       " <function str.upper()>,\n",
       " <function str.upper()>,\n",
       " <function str.upper()>,\n",
       " <function str.upper()>,\n",
       " <function str.upper()>,\n",
       " <function str.upper()>,\n",
       " 'RINKU',\n",
       " 'RAHUL',\n",
       " 'YUVRAJ',\n",
       " 'DUSHAYANT']"
      ]
     },
     "execution_count": 26,
     "metadata": {},
     "output_type": "execute_result"
    }
   ],
   "source": [
    "l1"
   ]
  },
  {
   "cell_type": "code",
   "execution_count": 27,
   "id": "b3d95b28-bf60-4f10-a920-31d89894d8ea",
   "metadata": {},
   "outputs": [
    {
     "data": {
      "text/plain": [
       "[<function str.upper()>,\n",
       " <function str.upper()>,\n",
       " <function str.upper()>,\n",
       " <function str.upper()>,\n",
       " <function str.upper()>,\n",
       " <function str.upper()>,\n",
       " <function str.upper()>,\n",
       " <function str.upper()>,\n",
       " <function str.upper()>,\n",
       " <function str.upper()>,\n",
       " <function str.upper()>,\n",
       " <function str.upper()>,\n",
       " 'RINKU',\n",
       " 'RAHUL',\n",
       " 'YUVRAJ',\n",
       " 'DUSHAYANT']"
      ]
     },
     "execution_count": 27,
     "metadata": {},
     "output_type": "execute_result"
    }
   ],
   "source": [
    "l1"
   ]
  },
  {
   "cell_type": "code",
   "execution_count": 34,
   "id": "38eb454a-3d93-4b18-a5f5-af00a1bdea18",
   "metadata": {},
   "outputs": [],
   "source": [
    "l=[1,2,3,4,4,\"sudh\",\"kumar\",32,31,\"ram\"]"
   ]
  },
  {
   "cell_type": "code",
   "execution_count": 35,
   "id": "aacf29ba-d64c-4299-9192-b8894b92505b",
   "metadata": {},
   "outputs": [],
   "source": [
    "l1_num=[]\n",
    "l2_str=[]\n"
   ]
  },
  {
   "cell_type": "code",
   "execution_count": 38,
   "id": "828c2230-e170-4052-b7fc-3dc5d82bd7ea",
   "metadata": {},
   "outputs": [],
   "source": [
    "for i in l:\n",
    "    if type(i)==int:\n",
    "             l1_num.append(i)\n",
    "    else:\n",
    "              l2_str.append(i)"
   ]
  },
  {
   "cell_type": "code",
   "execution_count": 39,
   "id": "65dd5b36-e57c-47e0-b045-26afdd8773ba",
   "metadata": {},
   "outputs": [
    {
     "data": {
      "text/plain": [
       "[1, 2, 3, 4, 4, 32, 31]"
      ]
     },
     "execution_count": 39,
     "metadata": {},
     "output_type": "execute_result"
    }
   ],
   "source": [
    "l1_num"
   ]
  },
  {
   "cell_type": "code",
   "execution_count": 40,
   "id": "7b1b46bb-5ffe-4ba1-9a36-a26d9808a678",
   "metadata": {},
   "outputs": [
    {
     "data": {
      "text/plain": [
       "['sudh', 'kumar', 'ram']"
      ]
     },
     "execution_count": 40,
     "metadata": {},
     "output_type": "execute_result"
    }
   ],
   "source": [
    "l2_str"
   ]
  },
  {
   "cell_type": "code",
   "execution_count": null,
   "id": "a42093d2-1507-444a-b736-1a9ecbb36f24",
   "metadata": {},
   "outputs": [],
   "source": []
  },
  {
   "cell_type": "code",
   "execution_count": null,
   "id": "d61b942d-eecc-46c1-901a-7a1154a4a26a",
   "metadata": {},
   "outputs": [],
   "source": []
  }
 ],
 "metadata": {
  "kernelspec": {
   "display_name": "Python 3 (ipykernel)",
   "language": "python",
   "name": "python3"
  },
  "language_info": {
   "codemirror_mode": {
    "name": "ipython",
    "version": 3
   },
   "file_extension": ".py",
   "mimetype": "text/x-python",
   "name": "python",
   "nbconvert_exporter": "python",
   "pygments_lexer": "ipython3",
   "version": "3.10.6"
  }
 },
 "nbformat": 4,
 "nbformat_minor": 5
}
